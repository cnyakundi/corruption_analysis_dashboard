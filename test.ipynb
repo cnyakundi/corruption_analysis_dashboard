{
 "cells": [
  {
   "cell_type": "code",
   "execution_count": 6,
   "metadata": {
    "collapsed": true
   },
   "outputs": [
    {
     "data": {
      "text/plain": "   Unnamed: 0   County  It was the only way  To hasten the process  \\\n0           0    Bomet                100.0                    0.0   \n1           1  Kericho                 94.4                    0.0   \n2           2  Garissa                 90.8                    5.2   \n3           3    Narok                 90.6                    9.4   \n4           4  Nyamira                 85.1                    0.0   \n\n   To avoid problems with authority  To avoid paying full cost of service  \\\n0                               0.0                                   0.0   \n1                               5.6                                   0.0   \n2                               4.0                                   0.0   \n3                               0.0                                   0.0   \n4                              13.1                                   1.8   \n\n   To access service  Was expected  \n0                0.0           0.0  \n1                0.0           0.0  \n2                0.0           0.0  \n3                0.0           0.0  \n4                0.0           0.0  ",
      "text/html": "<div>\n<style scoped>\n    .dataframe tbody tr th:only-of-type {\n        vertical-align: middle;\n    }\n\n    .dataframe tbody tr th {\n        vertical-align: top;\n    }\n\n    .dataframe thead th {\n        text-align: right;\n    }\n</style>\n<table border=\"1\" class=\"dataframe\">\n  <thead>\n    <tr style=\"text-align: right;\">\n      <th></th>\n      <th>Unnamed: 0</th>\n      <th>County</th>\n      <th>It was the only way</th>\n      <th>To hasten the process</th>\n      <th>To avoid problems with authority</th>\n      <th>To avoid paying full cost of service</th>\n      <th>To access service</th>\n      <th>Was expected</th>\n    </tr>\n  </thead>\n  <tbody>\n    <tr>\n      <th>0</th>\n      <td>0</td>\n      <td>Bomet</td>\n      <td>100.0</td>\n      <td>0.0</td>\n      <td>0.0</td>\n      <td>0.0</td>\n      <td>0.0</td>\n      <td>0.0</td>\n    </tr>\n    <tr>\n      <th>1</th>\n      <td>1</td>\n      <td>Kericho</td>\n      <td>94.4</td>\n      <td>0.0</td>\n      <td>5.6</td>\n      <td>0.0</td>\n      <td>0.0</td>\n      <td>0.0</td>\n    </tr>\n    <tr>\n      <th>2</th>\n      <td>2</td>\n      <td>Garissa</td>\n      <td>90.8</td>\n      <td>5.2</td>\n      <td>4.0</td>\n      <td>0.0</td>\n      <td>0.0</td>\n      <td>0.0</td>\n    </tr>\n    <tr>\n      <th>3</th>\n      <td>3</td>\n      <td>Narok</td>\n      <td>90.6</td>\n      <td>9.4</td>\n      <td>0.0</td>\n      <td>0.0</td>\n      <td>0.0</td>\n      <td>0.0</td>\n    </tr>\n    <tr>\n      <th>4</th>\n      <td>4</td>\n      <td>Nyamira</td>\n      <td>85.1</td>\n      <td>0.0</td>\n      <td>13.1</td>\n      <td>1.8</td>\n      <td>0.0</td>\n      <td>0.0</td>\n    </tr>\n  </tbody>\n</table>\n</div>"
     },
     "execution_count": 6,
     "metadata": {},
     "output_type": "execute_result"
    }
   ],
   "source": [
    "import pandas as pd\n",
    "\n",
    "bribery_prevalence = pd.read_csv('reasons_for_bribing_final.csv')\n",
    "\n",
    "\n",
    "bribery_prevalence.head()"
   ]
  },
  {
   "cell_type": "code",
   "execution_count": null,
   "outputs": [],
   "source": [],
   "metadata": {
    "collapsed": false,
    "pycharm": {
     "name": "#%%\n"
    }
   }
  }
 ],
 "metadata": {
  "kernelspec": {
   "display_name": "Python 3",
   "language": "python",
   "name": "python3"
  },
  "language_info": {
   "codemirror_mode": {
    "name": "ipython",
    "version": 2
   },
   "file_extension": ".py",
   "mimetype": "text/x-python",
   "name": "python",
   "nbconvert_exporter": "python",
   "pygments_lexer": "ipython2",
   "version": "2.7.6"
  }
 },
 "nbformat": 4,
 "nbformat_minor": 0
}